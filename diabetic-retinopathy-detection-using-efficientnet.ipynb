{
 "cells": [
  {
   "cell_type": "code",
   "execution_count": 1,
   "id": "lovely-translation",
   "metadata": {
    "_cell_guid": "b1076dfc-b9ad-4769-8c92-a6c4dae69d19",
    "_uuid": "8f2839f25d086af736a60e9eeb907d3b93b6e0e5",
    "execution": {
     "iopub.execute_input": "2021-06-08T18:14:57.794505Z",
     "iopub.status.busy": "2021-06-08T18:14:57.793931Z",
     "iopub.status.idle": "2021-06-08T18:14:57.809911Z",
     "shell.execute_reply": "2021-06-08T18:14:57.809081Z",
     "shell.execute_reply.started": "2021-06-08T17:46:37.203830Z"
    },
    "papermill": {
     "duration": 0.03353,
     "end_time": "2021-06-08T18:14:57.810112",
     "exception": false,
     "start_time": "2021-06-08T18:14:57.776582",
     "status": "completed"
    },
    "tags": []
   },
   "outputs": [
    {
     "name": "stdout",
     "output_type": "stream",
     "text": [
      "['diabetic-retinopathy-detection']\n",
      "['Mild', 'Proliferate_DR', 'Moderate', 'No_DR', 'Severe']\n"
     ]
    }
   ],
   "source": [
    "# This Python 3 environment comes with many helpful analytics libraries installed\n",
    "# It is defined by the kaggle/python Docker image: https://github.com/kaggle/docker-python\n",
    "# For example, here's several helpful packages to load\n",
    "\n",
    "import numpy as np # linear algebra\n",
    "import pandas as pd # data processing, CSV file I/O (e.g. pd.read_csv)\n",
    "\n",
    "# Input data files are available in the read-only \"../input/\" directory\n",
    "# For example, running this (by clicking run or pressing Shift+Enter) will list all files under the input directory\n",
    "\n",
    "import os\n",
    "print(os.listdir(\"../input\"))\n",
    "print(os.listdir(\"../input/diabetic-retinopathy-detection/gaussian_filtered_images\"))\n",
    "\n",
    "# You can write up to 20GB to the current directory (/kaggle/working/) that gets preserved as output when you create a version using \"Save & Run All\" \n",
    "# You can also write temporary files to /kaggle/temp/, but they won't be saved outside of the current session"
   ]
  },
  {
   "cell_type": "code",
   "execution_count": 2,
   "id": "hundred-burke",
   "metadata": {
    "execution": {
     "iopub.execute_input": "2021-06-08T18:14:57.828539Z",
     "iopub.status.busy": "2021-06-08T18:14:57.827909Z",
     "iopub.status.idle": "2021-06-08T18:15:06.434311Z",
     "shell.execute_reply": "2021-06-08T18:15:06.433837Z",
     "shell.execute_reply.started": "2021-06-08T17:46:56.776324Z"
    },
    "papermill": {
     "duration": 8.616352,
     "end_time": "2021-06-08T18:15:06.434441",
     "exception": false,
     "start_time": "2021-06-08T18:14:57.818089",
     "status": "completed"
    },
    "tags": []
   },
   "outputs": [
    {
     "name": "stdout",
     "output_type": "stream",
     "text": [
      "Collecting efficientnet\r\n",
      "  Downloading efficientnet-1.1.1-py3-none-any.whl (18 kB)\r\n",
      "Collecting keras-applications<=1.0.8,>=1.0.7\r\n",
      "  Downloading Keras_Applications-1.0.8-py3-none-any.whl (50 kB)\r\n",
      "\u001b[K     |████████████████████████████████| 50 kB 251 kB/s \r\n",
      "\u001b[?25hRequirement already satisfied: scikit-image in /opt/conda/lib/python3.7/site-packages (from efficientnet) (0.18.1)\r\n",
      "Requirement already satisfied: h5py in /opt/conda/lib/python3.7/site-packages (from keras-applications<=1.0.8,>=1.0.7->efficientnet) (2.10.0)\r\n",
      "Requirement already satisfied: numpy>=1.9.1 in /opt/conda/lib/python3.7/site-packages (from keras-applications<=1.0.8,>=1.0.7->efficientnet) (1.19.5)\r\n",
      "Requirement already satisfied: six in /opt/conda/lib/python3.7/site-packages (from h5py->keras-applications<=1.0.8,>=1.0.7->efficientnet) (1.15.0)\r\n",
      "Requirement already satisfied: imageio>=2.3.0 in /opt/conda/lib/python3.7/site-packages (from scikit-image->efficientnet) (2.9.0)\r\n",
      "Requirement already satisfied: tifffile>=2019.7.26 in /opt/conda/lib/python3.7/site-packages (from scikit-image->efficientnet) (2021.4.8)\r\n",
      "Requirement already satisfied: networkx>=2.0 in /opt/conda/lib/python3.7/site-packages (from scikit-image->efficientnet) (2.5)\r\n",
      "Requirement already satisfied: PyWavelets>=1.1.1 in /opt/conda/lib/python3.7/site-packages (from scikit-image->efficientnet) (1.1.1)\r\n",
      "Requirement already satisfied: scipy>=1.0.1 in /opt/conda/lib/python3.7/site-packages (from scikit-image->efficientnet) (1.5.4)\r\n",
      "Requirement already satisfied: matplotlib!=3.0.0,>=2.0.0 in /opt/conda/lib/python3.7/site-packages (from scikit-image->efficientnet) (3.4.1)\r\n",
      "Requirement already satisfied: pillow!=7.1.0,!=7.1.1,>=4.3.0 in /opt/conda/lib/python3.7/site-packages (from scikit-image->efficientnet) (7.2.0)\r\n",
      "Requirement already satisfied: kiwisolver>=1.0.1 in /opt/conda/lib/python3.7/site-packages (from matplotlib!=3.0.0,>=2.0.0->scikit-image->efficientnet) (1.3.1)\r\n",
      "Requirement already satisfied: python-dateutil>=2.7 in /opt/conda/lib/python3.7/site-packages (from matplotlib!=3.0.0,>=2.0.0->scikit-image->efficientnet) (2.8.1)\r\n",
      "Requirement already satisfied: pyparsing>=2.2.1 in /opt/conda/lib/python3.7/site-packages (from matplotlib!=3.0.0,>=2.0.0->scikit-image->efficientnet) (2.4.7)\r\n",
      "Requirement already satisfied: cycler>=0.10 in /opt/conda/lib/python3.7/site-packages (from matplotlib!=3.0.0,>=2.0.0->scikit-image->efficientnet) (0.10.0)\r\n",
      "Requirement already satisfied: decorator>=4.3.0 in /opt/conda/lib/python3.7/site-packages (from networkx>=2.0->scikit-image->efficientnet) (4.4.2)\r\n",
      "Installing collected packages: keras-applications, efficientnet\r\n",
      "Successfully installed efficientnet-1.1.1 keras-applications-1.0.8\r\n"
     ]
    }
   ],
   "source": [
    "!pip install efficientnet"
   ]
  },
  {
   "cell_type": "code",
   "execution_count": 3,
   "id": "worse-addition",
   "metadata": {
    "execution": {
     "iopub.execute_input": "2021-06-08T18:15:06.458292Z",
     "iopub.status.busy": "2021-06-08T18:15:06.457543Z",
     "iopub.status.idle": "2021-06-08T18:15:11.771557Z",
     "shell.execute_reply": "2021-06-08T18:15:11.770973Z",
     "shell.execute_reply.started": "2021-06-08T17:47:03.802832Z"
    },
    "papermill": {
     "duration": 5.327566,
     "end_time": "2021-06-08T18:15:11.771705",
     "exception": false,
     "start_time": "2021-06-08T18:15:06.444139",
     "status": "completed"
    },
    "tags": []
   },
   "outputs": [],
   "source": [
    "import tensorflow as tf\n",
    "from tensorflow.keras.preprocessing.image import ImageDataGenerator\n",
    "import efficientnet.tfkeras as efn"
   ]
  },
  {
   "cell_type": "code",
   "execution_count": 4,
   "id": "nonprofit-detector",
   "metadata": {
    "execution": {
     "iopub.execute_input": "2021-06-08T18:15:11.795189Z",
     "iopub.status.busy": "2021-06-08T18:15:11.794640Z",
     "iopub.status.idle": "2021-06-08T18:15:11.798513Z",
     "shell.execute_reply": "2021-06-08T18:15:11.798094Z",
     "shell.execute_reply.started": "2021-06-08T17:47:15.722906Z"
    },
    "papermill": {
     "duration": 0.017117,
     "end_time": "2021-06-08T18:15:11.798617",
     "exception": false,
     "start_time": "2021-06-08T18:15:11.781500",
     "status": "completed"
    },
    "tags": []
   },
   "outputs": [],
   "source": [
    "train_data = \"../input/diabetic-retinopathy-detection/gaussian_filtered_images\"\n",
    "validation_data = \"../input/diabetic-retinopathy-detection/gaussian_filtered_images\""
   ]
  },
  {
   "cell_type": "code",
   "execution_count": 5,
   "id": "saved-combining",
   "metadata": {
    "execution": {
     "iopub.execute_input": "2021-06-08T18:15:11.822508Z",
     "iopub.status.busy": "2021-06-08T18:15:11.821969Z",
     "iopub.status.idle": "2021-06-08T18:15:13.064789Z",
     "shell.execute_reply": "2021-06-08T18:15:13.063842Z",
     "shell.execute_reply.started": "2021-06-08T17:47:18.806557Z"
    },
    "papermill": {
     "duration": 1.256659,
     "end_time": "2021-06-08T18:15:13.064936",
     "exception": false,
     "start_time": "2021-06-08T18:15:11.808277",
     "status": "completed"
    },
    "tags": []
   },
   "outputs": [
    {
     "name": "stdout",
     "output_type": "stream",
     "text": [
      "Found 2931 images belonging to 5 classes.\n",
      "Found 731 images belonging to 5 classes.\n"
     ]
    }
   ],
   "source": [
    "datagen = ImageDataGenerator(rescale=1/255,\n",
    "                            zoom_range=0.2,\n",
    "                            width_shift_range=0.2,\n",
    "                            height_shift_range=0.2,\n",
    "                            validation_split = 0.2\n",
    "                            )\n",
    "\n",
    "train_data = datagen.flow_from_directory(train_data,\n",
    "                                        target_size=(224,224),\n",
    "                                        batch_size=32,\n",
    "                                        subset=\"training\")\n",
    "\n",
    "valid_data = datagen.flow_from_directory(validation_data,\n",
    "                                        target_size=(224,224),\n",
    "                                        batch_size=32,\n",
    "                                        subset=\"validation\")"
   ]
  },
  {
   "cell_type": "code",
   "execution_count": 6,
   "id": "czech-probability",
   "metadata": {
    "execution": {
     "iopub.execute_input": "2021-06-08T18:15:13.090211Z",
     "iopub.status.busy": "2021-06-08T18:15:13.089699Z",
     "iopub.status.idle": "2021-06-08T18:15:23.900424Z",
     "shell.execute_reply": "2021-06-08T18:15:23.899555Z",
     "shell.execute_reply.started": "2021-06-08T17:47:23.698434Z"
    },
    "papermill": {
     "duration": 10.825264,
     "end_time": "2021-06-08T18:15:23.900565",
     "exception": false,
     "start_time": "2021-06-08T18:15:13.075301",
     "status": "completed"
    },
    "tags": []
   },
   "outputs": [
    {
     "name": "stdout",
     "output_type": "stream",
     "text": [
      "Downloading data from https://github.com/Callidior/keras-applications/releases/download/efficientnet/efficientnet-b4_weights_tf_dim_ordering_tf_kernels_autoaugment_notop.h5\n",
      "71892992/71892840 [==============================] - 3s 0us/step\n"
     ]
    }
   ],
   "source": [
    "model = tf.keras.Sequential([\n",
    "    efn.EfficientNetB4(\n",
    "        input_shape = (224,224,3),\n",
    "        weights='imagenet',\n",
    "        include_top = False),tf.keras.layers.Flatten(),tf.keras.layers.Dense(5,activation='softmax')\n",
    "\n",
    "])"
   ]
  },
  {
   "cell_type": "code",
   "execution_count": 7,
   "id": "unique-point",
   "metadata": {
    "execution": {
     "iopub.execute_input": "2021-06-08T18:15:23.973096Z",
     "iopub.status.busy": "2021-06-08T18:15:23.972278Z",
     "iopub.status.idle": "2021-06-08T18:40:56.854847Z",
     "shell.execute_reply": "2021-06-08T18:40:56.855497Z",
     "shell.execute_reply.started": "2021-06-08T17:47:36.023684Z"
    },
    "papermill": {
     "duration": 1532.926383,
     "end_time": "2021-06-08T18:40:56.855708",
     "exception": false,
     "start_time": "2021-06-08T18:15:23.929325",
     "status": "completed"
    },
    "tags": []
   },
   "outputs": [
    {
     "name": "stderr",
     "output_type": "stream",
     "text": [
      "/opt/conda/lib/python3.7/site-packages/tensorflow/python/keras/engine/training.py:1844: UserWarning: `Model.fit_generator` is deprecated and will be removed in a future version. Please use `Model.fit`, which supports generators.\n",
      "  warnings.warn('`Model.fit_generator` is deprecated and '\n"
     ]
    },
    {
     "name": "stdout",
     "output_type": "stream",
     "text": [
      "Epoch 1/25\n",
      "92/92 [==============================] - 92s 784ms/step - loss: 2.5522 - accuracy: 0.5391 - val_loss: 2.5537 - val_accuracy: 0.6306\n",
      "Epoch 2/25\n",
      "92/92 [==============================] - 60s 648ms/step - loss: 1.4984 - accuracy: 0.6729 - val_loss: 2.8470 - val_accuracy: 0.6361\n",
      "Epoch 3/25\n",
      "92/92 [==============================] - 59s 645ms/step - loss: 1.1292 - accuracy: 0.7060 - val_loss: 1.7159 - val_accuracy: 0.6580\n",
      "Epoch 4/25\n",
      "92/92 [==============================] - 60s 648ms/step - loss: 1.3646 - accuracy: 0.6754 - val_loss: 1.5058 - val_accuracy: 0.6867\n",
      "Epoch 5/25\n",
      "92/92 [==============================] - 60s 647ms/step - loss: 0.8180 - accuracy: 0.7584 - val_loss: 0.7038 - val_accuracy: 0.7756\n",
      "Epoch 6/25\n",
      "92/92 [==============================] - 60s 649ms/step - loss: 0.7642 - accuracy: 0.7671 - val_loss: 0.7503 - val_accuracy: 0.7743\n",
      "Epoch 7/25\n",
      "92/92 [==============================] - 60s 647ms/step - loss: 0.6078 - accuracy: 0.7920 - val_loss: 0.7016 - val_accuracy: 0.7866\n",
      "Epoch 8/25\n",
      "92/92 [==============================] - 60s 646ms/step - loss: 0.5297 - accuracy: 0.8026 - val_loss: 0.6519 - val_accuracy: 0.7839\n",
      "Epoch 9/25\n",
      "92/92 [==============================] - 60s 645ms/step - loss: 0.4868 - accuracy: 0.8134 - val_loss: 0.5340 - val_accuracy: 0.8167\n",
      "Epoch 10/25\n",
      "92/92 [==============================] - 60s 650ms/step - loss: 0.4517 - accuracy: 0.8376 - val_loss: 0.7220 - val_accuracy: 0.7784\n",
      "Epoch 11/25\n",
      "92/92 [==============================] - 60s 652ms/step - loss: 0.4156 - accuracy: 0.8504 - val_loss: 0.7507 - val_accuracy: 0.8208\n",
      "Epoch 12/25\n",
      "92/92 [==============================] - 60s 653ms/step - loss: 0.3617 - accuracy: 0.8697 - val_loss: 0.7939 - val_accuracy: 0.7456\n",
      "Epoch 13/25\n",
      "92/92 [==============================] - 60s 652ms/step - loss: 0.4141 - accuracy: 0.8480 - val_loss: 0.7814 - val_accuracy: 0.7975\n",
      "Epoch 14/25\n",
      "92/92 [==============================] - 60s 648ms/step - loss: 0.3618 - accuracy: 0.8695 - val_loss: 0.5477 - val_accuracy: 0.8153\n",
      "Epoch 15/25\n",
      "92/92 [==============================] - 60s 646ms/step - loss: 0.3193 - accuracy: 0.8760 - val_loss: 0.7666 - val_accuracy: 0.7866\n",
      "Epoch 16/25\n",
      "92/92 [==============================] - 60s 645ms/step - loss: 0.3426 - accuracy: 0.8741 - val_loss: 0.7080 - val_accuracy: 0.7934\n",
      "Epoch 17/25\n",
      "92/92 [==============================] - 60s 651ms/step - loss: 0.2940 - accuracy: 0.8991 - val_loss: 0.8949 - val_accuracy: 0.7962\n",
      "Epoch 18/25\n",
      "92/92 [==============================] - 60s 651ms/step - loss: 0.2604 - accuracy: 0.9071 - val_loss: 0.8569 - val_accuracy: 0.7893\n",
      "Epoch 19/25\n",
      "92/92 [==============================] - 60s 647ms/step - loss: 0.3309 - accuracy: 0.8978 - val_loss: 1.0520 - val_accuracy: 0.7223\n",
      "Epoch 20/25\n",
      "92/92 [==============================] - 60s 650ms/step - loss: 0.2947 - accuracy: 0.8903 - val_loss: 0.7396 - val_accuracy: 0.7661\n",
      "Epoch 21/25\n",
      "92/92 [==============================] - 61s 657ms/step - loss: 0.2877 - accuracy: 0.8952 - val_loss: 0.9419 - val_accuracy: 0.7880\n",
      "Epoch 22/25\n",
      "92/92 [==============================] - 60s 653ms/step - loss: 0.2417 - accuracy: 0.9202 - val_loss: 0.6927 - val_accuracy: 0.7825\n",
      "Epoch 23/25\n",
      "92/92 [==============================] - 61s 656ms/step - loss: 0.2941 - accuracy: 0.9022 - val_loss: 0.8982 - val_accuracy: 0.7661\n",
      "Epoch 24/25\n",
      "92/92 [==============================] - 60s 651ms/step - loss: 0.2328 - accuracy: 0.9220 - val_loss: 0.7763 - val_accuracy: 0.8044\n",
      "Epoch 25/25\n",
      "92/92 [==============================] - 60s 652ms/step - loss: 0.4879 - accuracy: 0.9003 - val_loss: 6.9692 - val_accuracy: 0.6115\n"
     ]
    }
   ],
   "source": [
    "model.compile(optimizer=\"adam\",loss=\"categorical_crossentropy\",metrics=[\"accuracy\"])\n",
    "histroy = model.fit_generator(train_data,\n",
    "                            validation_data=valid_data,\n",
    "                            epochs=25,\n",
    "                            verbose = 1)"
   ]
  },
  {
   "cell_type": "code",
   "execution_count": null,
   "id": "attended-lover",
   "metadata": {
    "papermill": {
     "duration": 0.626362,
     "end_time": "2021-06-08T18:40:58.115021",
     "exception": false,
     "start_time": "2021-06-08T18:40:57.488659",
     "status": "completed"
    },
    "tags": []
   },
   "outputs": [],
   "source": []
  }
 ],
 "metadata": {
  "kernelspec": {
   "display_name": "Python 3",
   "language": "python",
   "name": "python3"
  },
  "language_info": {
   "codemirror_mode": {
    "name": "ipython",
    "version": 3
   },
   "file_extension": ".py",
   "mimetype": "text/x-python",
   "name": "python",
   "nbconvert_exporter": "python",
   "pygments_lexer": "ipython3",
   "version": "3.7.10"
  },
  "papermill": {
   "default_parameters": {},
   "duration": 1570.310345,
   "end_time": "2021-06-08T18:41:01.776936",
   "environment_variables": {},
   "exception": null,
   "input_path": "__notebook__.ipynb",
   "output_path": "__notebook__.ipynb",
   "parameters": {},
   "start_time": "2021-06-08T18:14:51.466591",
   "version": "2.3.3"
  }
 },
 "nbformat": 4,
 "nbformat_minor": 5
}
