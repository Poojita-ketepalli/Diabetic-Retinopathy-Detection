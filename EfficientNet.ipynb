{
 "metadata": {
  "language_info": {
   "codemirror_mode": {
    "name": "ipython",
    "version": 3
   },
   "file_extension": ".py",
   "mimetype": "text/x-python",
   "name": "python",
   "nbconvert_exporter": "python",
   "pygments_lexer": "ipython3",
   "version": "3.8.5-final"
  },
  "orig_nbformat": 2,
  "kernelspec": {
   "name": "python3",
   "display_name": "Python 3",
   "language": "python"
  }
 },
 "nbformat": 4,
 "nbformat_minor": 2,
 "cells": [
  {
   "cell_type": "code",
   "execution_count": 6,
   "metadata": {},
   "outputs": [],
   "source": [
    "import tensorflow as tf\n",
    "from tensorflow.keras.preprocessing.image import ImageDataGenerator\n",
    "import efficientnet.tfkeras as efn\n"
   ]
  },
  {
   "cell_type": "code",
   "execution_count": 7,
   "metadata": {},
   "outputs": [],
   "source": [
    "train_data = \"F:\\gaussian_filtered_images\\gaussian_filtered_images\"\n",
    "validation_data = \"F:\\gaussian_filtered_images\\gaussian_filtered_images\""
   ]
  },
  {
   "cell_type": "code",
   "execution_count": 9,
   "metadata": {},
   "outputs": [
    {
     "output_type": "stream",
     "name": "stdout",
     "text": [
      "Found 2931 images belonging to 5 classes.\n",
      "Found 731 images belonging to 5 classes.\n"
     ]
    }
   ],
   "source": [
    "datagen = ImageDataGenerator(rescale=1/255,\n",
    "                            zoom_range=0.2,\n",
    "                            width_shift_range=0.2,\n",
    "                            height_shift_range=0.2,\n",
    "                            validation_split = 0.2\n",
    "                            )\n",
    "\n",
    "train_data = datagen.flow_from_directory(train_data,\n",
    "                                        target_size=(224,224),\n",
    "                                        batch_size=32,\n",
    "                                        subset=\"training\")\n",
    "\n",
    "valid_data = datagen.flow_from_directory(validation_data,\n",
    "                                        target_size=(224,224),\n",
    "                                        batch_size=32,\n",
    "                                        subset=\"validation\")"
   ]
  },
  {
   "cell_type": "code",
   "execution_count": 12,
   "metadata": {},
   "outputs": [],
   "source": [
    "model = tf.keras.Sequential([\n",
    "    efn.EfficientNetB0(\n",
    "        input_shape = (224,224,3),\n",
    "        weights='imagenet',\n",
    "        include_top = False),tf.keras.layers.Flatten(),tf.keras.layers.Dense(5,activation='softmax')\n",
    "\n",
    "])"
   ]
  },
  {
   "cell_type": "code",
   "execution_count": null,
   "metadata": {},
   "outputs": [],
   "source": [
    "model.compile(optimizers = 'Adan',loss='categorical_crossentropy',metrics=['acc'])\n",
    "histroy = model.fit_generator(train_data,\n",
    "                            validation_data=valid_data,\n",
    "                            epochs=20,\n",
    "                            verbose = 1)"
   ]
  }
 ]
}